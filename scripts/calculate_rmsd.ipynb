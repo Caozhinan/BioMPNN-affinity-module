{
 "cells": [
  {
   "cell_type": "code",
   "execution_count": 4,
   "id": "b14747eb",
   "metadata": {},
   "outputs": [
    {
     "name": "stdout",
     "output_type": "stream",
     "text": [
      "MAE  = 1.2444\n",
      "RMSE = 1.6746\n",
      "Rp   = 0.6506\n"
     ]
    }
   ],
   "source": [
    "import pandas as pd\n",
    "import numpy as np\n",
    "\n",
    "# === 读取 CSV 文件 ===\n",
    "# 请将数据保存为 data.csv 或修改此路径\n",
    "df = pd.read_csv(\"test_pdbbind.csv\")\n",
    "\n",
    "# === 提取真实值与预测值 ===\n",
    "y_true = df[\"true_pK\"].to_numpy()\n",
    "y_pred = df[\"pred_pK\"].to_numpy()\n",
    "\n",
    "# === 计算评估指标 ===\n",
    "mae = np.mean(np.abs(y_true - y_pred))                     # 平均绝对误差\n",
    "rmse = np.sqrt(np.mean((y_true - y_pred) ** 2))            # 均方根误差\n",
    "rp = np.corrcoef(y_true, y_pred)[0, 1]                     # 皮尔逊相关系数\n",
    "\n",
    "# === 输出结果 ===\n",
    "print(f\"MAE  = {mae:.4f}\")\n",
    "print(f\"RMSE = {rmse:.4f}\")\n",
    "print(f\"Rp   = {rp:.4f}\")"
   ]
  }
 ],
 "metadata": {
  "kernelspec": {
   "display_name": "dynaformer",
   "language": "python",
   "name": "python3"
  },
  "language_info": {
   "codemirror_mode": {
    "name": "ipython",
    "version": 3
   },
   "file_extension": ".py",
   "mimetype": "text/x-python",
   "name": "python",
   "nbconvert_exporter": "python",
   "pygments_lexer": "ipython3",
   "version": "3.9.7"
  }
 },
 "nbformat": 4,
 "nbformat_minor": 5
}
